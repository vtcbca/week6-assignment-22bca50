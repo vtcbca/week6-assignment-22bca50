{
 "cells": [
  {
   "cell_type": "code",
   "execution_count": 1,
   "id": "b63179c4-dd0e-4e45-adc6-6ef7772b28a1",
   "metadata": {},
   "outputs": [],
   "source": [
    "import csv"
   ]
  },
  {
   "cell_type": "code",
   "execution_count": 2,
   "id": "a4b6fc0a-536e-4845-941c-a8dec10730f8",
   "metadata": {},
   "outputs": [],
   "source": [
    "# Function to calculate total marks and grade"
   ]
  },
  {
   "cell_type": "code",
   "execution_count": 3,
   "id": "bc7fa447-e5c7-4dba-9ee3-07fdd7c1a235",
   "metadata": {},
   "outputs": [],
   "source": [
    "def calculate_grade(marks):\n",
    "    total_marks = sum(marks)\n",
    "    percentage = total_marks / len(marks)\n",
    "\n",
    "    if percentage >= 90:\n",
    "        grade = 'A+'\n",
    "    elif 80 <= percentage < 90:\n",
    "        grade = 'A'\n",
    "    elif 70 <= percentage < 80:\n",
    "        grade = 'B'\n",
    "    elif 60 <= percentage < 70:\n",
    "        grade = 'C'\n",
    "    else:\n",
    "        grade = 'F'\n",
    "\n",
    "    return total_marks, grade"
   ]
  },
  {
   "cell_type": "code",
   "execution_count": 4,
   "id": "b31dd1fa-30d4-42b6-b2d6-cdd00ea46884",
   "metadata": {},
   "outputs": [],
   "source": [
    "# Create a result table and enter student details"
   ]
  },
  {
   "cell_type": "code",
   "execution_count": 6,
   "id": "d4abfc1d-92f9-4095-b260-adc17dff1a9b",
   "metadata": {},
   "outputs": [
    {
     "name": "stdin",
     "output_type": "stream",
     "text": [
      "Enter Student 1's Name:  Pal\n",
      "Enter marks for Subject 1:  67\n",
      "Enter marks for Subject 2:  77\n",
      "Enter marks for Subject 3:  65\n",
      "Enter marks for Subject 4:  80\n",
      "Enter marks for Subject 5:  75\n",
      "Enter Student 2's Name:  Priyank\n",
      "Enter marks for Subject 1:  60\n",
      "Enter marks for Subject 2:  77\n",
      "Enter marks for Subject 3:  63\n",
      "Enter marks for Subject 4:  50\n",
      "Enter marks for Subject 5:  45\n",
      "Enter Student 3's Name:  Bhavin\n",
      "Enter marks for Subject 1:  34\n",
      "Enter marks for Subject 2:  62\n",
      "Enter marks for Subject 3:  68\n",
      "Enter marks for Subject 4:  72\n",
      "Enter marks for Subject 5:  50\n",
      "Enter Student 4's Name:  Yash\n",
      "Enter marks for Subject 1:  67\n",
      "Enter marks for Subject 2:  74\n",
      "Enter marks for Subject 3:  59\n",
      "Enter marks for Subject 4:  68\n",
      "Enter marks for Subject 5:  35\n",
      "Enter Student 5's Name:  Meet\n",
      "Enter marks for Subject 1:  48\n",
      "Enter marks for Subject 2:  67\n",
      "Enter marks for Subject 3:  78\n",
      "Enter marks for Subject 4:  58\n",
      "Enter marks for Subject 5:  67\n",
      "Enter Student 6's Name:  Dev\n",
      "Enter marks for Subject 1:  69\n",
      "Enter marks for Subject 2:  64\n",
      "Enter marks for Subject 3:  85\n",
      "Enter marks for Subject 4:  35\n",
      "Enter marks for Subject 5:  77\n",
      "Enter Student 7's Name:  Aryan\n",
      "Enter marks for Subject 1:  67\n",
      "Enter marks for Subject 2:  85\n",
      "Enter marks for Subject 3:  39\n",
      "Enter marks for Subject 4:  40\n",
      "Enter marks for Subject 5:  65\n",
      "Enter Student 8's Name:  Dhruv\n",
      "Enter marks for Subject 1:  60\n",
      "Enter marks for Subject 2:  37\n",
      "Enter marks for Subject 3:  45\n",
      "Enter marks for Subject 4:  69\n",
      "Enter marks for Subject 5:  75\n",
      "Enter Student 9's Name:  Viral\n",
      "Enter marks for Subject 1:  79\n",
      "Enter marks for Subject 2:  35\n",
      "Enter marks for Subject 3:  62\n",
      "Enter marks for Subject 4:  49\n",
      "Enter marks for Subject 5:  57\n",
      "Enter Student 10's Name:  Nikunj\n",
      "Enter marks for Subject 1:  67\n",
      "Enter marks for Subject 2:  65\n",
      "Enter marks for Subject 3:  52\n",
      "Enter marks for Subject 4:  57\n",
      "Enter marks for Subject 5:  66\n"
     ]
    }
   ],
   "source": [
    "result_table = []\n",
    "for i in range(1, 11):\n",
    "    student_id = i\n",
    "    student_name = input(f\"Enter Student {i}'s Name: \")\n",
    "    subject_marks = []\n",
    "    for j in range(5):\n",
    "        subject_marks.append(int(input(f\"Enter marks for Subject {j + 1}: \")))\n",
    "\n",
    "    total_marks, grade = calculate_grade(subject_marks)\n",
    "\n",
    "    result_table.append([student_id, student_name] + subject_marks +\n",
    "[total_marks, grade])"
   ]
  },
  {
   "cell_type": "code",
   "execution_count": 7,
   "id": "b6cb2a86-90e0-4620-9cd9-a3bae933f86f",
   "metadata": {},
   "outputs": [],
   "source": [
    "# Dump table into result.csv"
   ]
  },
  {
   "cell_type": "code",
   "execution_count": 8,
   "id": "918c8eca-2169-47e9-81d5-20a00b3b0bd8",
   "metadata": {},
   "outputs": [],
   "source": [
    "with open('D:\\\\22bca50\\\\python\\\\result.csv', 'w', newline='') as file:\n",
    "    writer = csv.writer(file)\n",
    "    writer.writerow(['Student ID', 'Student Name', 'Subject 1','Subject 2', 'Subject 3', 'Subject 4', 'Subject 5', 'Total Marks','Grade'])\n",
    "    writer.writerows(result_table)"
   ]
  },
  {
   "cell_type": "code",
   "execution_count": 9,
   "id": "cc89b23c-a9ed-4249-80e8-a7b8d39d9fb4",
   "metadata": {},
   "outputs": [],
   "source": [
    "# Read result.csv and print total marks and grade"
   ]
  },
  {
   "cell_type": "code",
   "execution_count": 15,
   "id": "d898585a-d500-495b-b644-4b59776f94d1",
   "metadata": {},
   "outputs": [
    {
     "name": "stdout",
     "output_type": "stream",
     "text": [
      "Student ID: 1, Student Name:Pal, Total Marks: 364, Grade: B\n",
      "Student ID: 2, Student Name:Priyank, Total Marks: 295, Grade: F\n",
      "Student ID: 3, Student Name:Bhavin, Total Marks: 286, Grade: F\n",
      "Student ID: 4, Student Name:Yash, Total Marks: 303, Grade: C\n",
      "Student ID: 5, Student Name:Meet, Total Marks: 318, Grade: C\n",
      "Student ID: 6, Student Name:Dev, Total Marks: 330, Grade: C\n",
      "Student ID: 7, Student Name:Aryan, Total Marks: 296, Grade: F\n",
      "Student ID: 8, Student Name:Dhruv, Total Marks: 286, Grade: F\n",
      "Student ID: 9, Student Name:Viral, Total Marks: 282, Grade: F\n",
      "Student ID: 10, Student Name:Nikunj, Total Marks: 307, Grade: C\n"
     ]
    }
   ],
   "source": [
    "with open('D:\\\\22bca50\\\\python\\\\result.csv', 'r') as file:\n",
    "    reader = csv.reader(file)\n",
    "    next(reader) \n",
    "    for row in reader:\n",
    "        student_id, student_name, *subject_marks, total_marks, grade = row\n",
    "        print(f\"Student ID: {student_id}, Student Name:{student_name}, Total Marks: {total_marks}, Grade: {grade}\")"
   ]
  },
  {
   "cell_type": "code",
   "execution_count": 16,
   "id": "aa31682d-fd33-4605-a80a-4f774cce7329",
   "metadata": {},
   "outputs": [],
   "source": [
    "# List out top 3 students with percentage"
   ]
  },
  {
   "cell_type": "code",
   "execution_count": 18,
   "id": "bf158fb9-8c69-4e76-a44d-1a805611ec74",
   "metadata": {},
   "outputs": [
    {
     "name": "stdout",
     "output_type": "stream",
     "text": [
      "\n",
      "Top 3 Students:\n",
      "Student ID: 1, Student Name: Pal,Percentage: 72.8%\n",
      "Student ID: 6, Student Name: Dev,Percentage: 66.0%\n",
      "Student ID: 5, Student Name: Meet,Percentage: 63.6%\n"
     ]
    }
   ],
   "source": [
    "sorted_results = sorted(result_table, key=lambda x: x[-2],\n",
    "reverse=True)  # Sort by total marks\n",
    "print(\"\\nTop 3 Students:\")\n",
    "for i in range(3):\n",
    "    student_id, student_name, *_, total_marks, grade = sorted_results[i]\n",
    "    percentage = (int(total_marks) / 500) * 100\n",
    "    print(f\"Student ID: {student_id}, Student Name: {student_name},Percentage: {percentage}%\")"
   ]
  },
  {
   "cell_type": "code",
   "execution_count": null,
   "id": "853dd988-babe-4c27-9750-96ccf1779c7e",
   "metadata": {},
   "outputs": [],
   "source": []
  }
 ],
 "metadata": {
  "kernelspec": {
   "display_name": "Python 3 (ipykernel)",
   "language": "python",
   "name": "python3"
  },
  "language_info": {
   "codemirror_mode": {
    "name": "ipython",
    "version": 3
   },
   "file_extension": ".py",
   "mimetype": "text/x-python",
   "name": "python",
   "nbconvert_exporter": "python",
   "pygments_lexer": "ipython3",
   "version": "3.9.6"
  }
 },
 "nbformat": 4,
 "nbformat_minor": 5
}
